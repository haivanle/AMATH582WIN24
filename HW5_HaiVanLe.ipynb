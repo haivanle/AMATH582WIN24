{
 "cells": [
  {
   "cell_type": "code",
   "execution_count": 1,
   "metadata": {
    "id": "p5dL4YeVorzV"
   },
   "outputs": [],
   "source": [
    "import numpy as np\n",
    "import torch\n",
    "from torch import nn\n",
    "import tqdm"
   ]
  },
  {
   "cell_type": "code",
   "execution_count": 2,
   "metadata": {},
   "outputs": [],
   "source": [
    "import torchvision\n",
    "import matplotlib.pyplot as plt\n",
    "from torch.utils.data import DataLoader, Subset\n",
    "from sklearn.model_selection import train_test_split\n",
    "\n",
    "from torch import optim\n",
    "import torch.nn.functional as F"
   ]
  },
  {
   "cell_type": "code",
   "execution_count": 3,
   "metadata": {
    "id": "feGo1EKE4sRg"
   },
   "outputs": [
    {
     "name": "stdout",
     "output_type": "stream",
     "text": [
      "106\n",
      "12\n",
      "40\n"
     ]
    }
   ],
   "source": [
    "# Use the following code to load and normalize the dataset for training and testing\n",
    "# It will downlad the dataset into data subfolder (change to your data folder name)\n",
    "train_dataset = torchvision.datasets.FashionMNIST('data/', train=True, download=True,\n",
    "                             transform=torchvision.transforms.Compose([\n",
    "                               torchvision.transforms.ToTensor(),\n",
    "                               torchvision.transforms.Normalize(\n",
    "                                 (0.1307,), (0.3081,))\n",
    "                             ]))\n",
    "\n",
    "test_dataset = torchvision.datasets.FashionMNIST('data/', train=False, download=True,\n",
    "                             transform=torchvision.transforms.Compose([\n",
    "                               torchvision.transforms.ToTensor(),\n",
    "                               torchvision.transforms.Normalize(\n",
    "                                 (0.1307,), (0.3081,))\n",
    "                             ]))\n",
    "\n",
    "\n",
    "# Use the following code to create a validation set of 10%\n",
    "train_indices, val_indices, _, _ = train_test_split(\n",
    "    range(len(train_dataset)),\n",
    "    train_dataset.targets,\n",
    "    stratify=train_dataset.targets,\n",
    "    test_size=0.1,\n",
    ")\n",
    "\n",
    "# Generate training and validation subsets based on indices\n",
    "train_split = Subset(train_dataset, train_indices)\n",
    "val_split = Subset(train_dataset, val_indices)\n",
    "\n",
    "\n",
    "# set batches sizes\n",
    "train_batch_size = 512 #Define train batch size\n",
    "test_batch_size  = 256 #Define test batch size (can be larger than train batch size)\n",
    "\n",
    "\n",
    "# Define dataloader objects that help to iterate over batches and samples for\n",
    "# training, validation and testing\n",
    "train_batches = DataLoader(train_split, batch_size=train_batch_size, shuffle=True)\n",
    "val_batches = DataLoader(val_split, batch_size=train_batch_size, shuffle=True)\n",
    "test_batches = DataLoader(test_dataset, batch_size=test_batch_size, shuffle=True)\n",
    "                                           \n",
    "num_train_batches=len(train_batches)\n",
    "num_val_batches=len(val_batches)\n",
    "num_test_batches=len(test_batches)\n",
    "\n",
    "\n",
    "print(num_train_batches)\n",
    "print(num_val_batches)\n",
    "print(num_test_batches)\n",
    "\n",
    "\n",
    "#Sample code to visulaize the first sample in first 16 batches \n",
    "\n",
    "# batch_num = 0\n",
    "# for train_features, train_labels in train_batches:\n",
    "    \n",
    "#     if batch_num == 16:\n",
    "#         break    # break here\n",
    "    \n",
    "#     batch_num = batch_num +1\n",
    "#     print(f\"Feature batch shape: {train_features.size()}\")\n",
    "#     print(f\"Labels batch shape: {train_labels.size()}\")\n",
    "    \n",
    "#     img = train_features[0].squeeze()\n",
    "#     label = train_labels[0]\n",
    "#     plt.imshow(img, cmap=\"gray\")\n",
    "#     plt.show()\n",
    "#     print(f\"Label: {label}\")\n",
    "\n",
    "\n",
    "\n",
    "# Sample code to plot N^2 images from the dataset\n",
    "# def plot_images(XX, N, title):\n",
    "#     fig, ax = plt.subplots(N, N, figsize=(8, 8))\n",
    "    \n",
    "#     for i in range(N):\n",
    "#       for j in range(N):\n",
    "#         ax[i,j].imshow(XX[(N)*i+j], cmap=\"Greys\")\n",
    "#         ax[i,j].axis(\"off\")\n",
    "#     fig.suptitle(title, fontsize=24)\n",
    "\n",
    "# plot_images(train_dataset.data[:64], 8, \"First 64 Training Images\" )\n",
    "\n",
    "    "
   ]
  },
  {
   "cell_type": "code",
   "execution_count": 4,
   "metadata": {},
   "outputs": [],
   "source": [
    "# design CNN model with convolutional, pooling, and FC layers\n",
    "class CNN(nn.Module):\n",
    "    def __init__(self, input_dim, output_dim, num_hidden_layers, hidden_dim):\n",
    "        super(CNN, self).__init__()\n",
    "        self.conv1 = nn.Conv2d(1, 8, kernel_size=3, padding=1)\n",
    "        self.pool = nn.MaxPool2d(2, 2)\n",
    "        self.conv2 = nn.Conv2d(8, 16, kernel_size=3, padding=1)\n",
    "        \n",
    "        # Calculate the input dimension for the fully connected layers based on the output size of the convolutional layers\n",
    "        fc_input_dim = 16 * (input_dim // 4) * (input_dim // 4)\n",
    "        \n",
    "        # Create hidden fully connected layers\n",
    "        self.fc_layers = nn.ModuleList()\n",
    "        for _ in range(num_hidden_layers):\n",
    "            self.fc_layers.append(nn.Linear(fc_input_dim, hidden_dim))\n",
    "            fc_input_dim = hidden_dim\n",
    "        \n",
    "        # Final fully connected layer\n",
    "        self.fc_out = nn.Linear(hidden_dim, output_dim)\n",
    "\n",
    "    def forward(self, x):\n",
    "        x = self.pool(F.relu(self.conv1(x)))\n",
    "        x = self.pool(F.relu(self.conv2(x)))\n",
    "        x = x.view(x.size(0), -1)\n",
    "        for layer in self.fc_layers:\n",
    "            x = F.relu(layer(x))\n",
    "        x = self.fc_out(x)\n",
    "        return F.log_softmax(x, dim=1)"
   ]
  },
  {
   "cell_type": "code",
   "execution_count": 5,
   "metadata": {},
   "outputs": [],
   "source": [
    "# Counting the number of weights\n",
    "def count_parameters(model):\n",
    "    return sum(p.numel() for p in model.parameters() if p.requires_grad)"
   ]
  },
  {
   "cell_type": "code",
   "execution_count": 6,
   "metadata": {},
   "outputs": [],
   "source": [
    "# Previous FCN model\n",
    "class ACAIGFCNWithInitialization(nn.Module):\n",
    "    def __init__(self, input_dim, output_dim, num_hidden_layers, hidden_dim, initialization):\n",
    "        super(ACAIGFCNWithInitialization, self).__init__()\n",
    "        layers = []\n",
    "        prev_dim = input_dim\n",
    "        for dim in hidden_dim:\n",
    "            layer = nn.Linear(prev_dim, dim)\n",
    "            initialization(layer.weight.data)\n",
    "            layers.append(layer)\n",
    "            layers.append(nn.ReLU())\n",
    "            prev_dim = dim\n",
    "        layers.append(nn.Linear(prev_dim, output_dim))\n",
    "        self.model = nn.Sequential(*layers)\n",
    "\n",
    "    def forward(self, x):\n",
    "        return self.model(x)\n"
   ]
  },
  {
   "cell_type": "markdown",
   "metadata": {},
   "source": [
    "**TASK 1 and 2**"
   ]
  },
  {
   "cell_type": "code",
   "execution_count": 7,
   "metadata": {},
   "outputs": [
    {
     "name": "stdout",
     "output_type": "stream",
     "text": [
      "Number of weights before adjustment: 92718\n"
     ]
    }
   ],
   "source": [
    "input_dim = 784  # Input dimension\n",
    "output_dim = 10  # Output dimension (number of classes)\n",
    "num_hidden_layers = 2  # Adjustable number of hidden layers\n",
    "hidden_dim = [100, 128]  # Adjustable number of neurons in each hidden layer\n",
    "learning_rate = 0.1  # Adjustable learning rate\n",
    "num_epochs = 15  # Adjustable number of epochs\n",
    "initialization = nn.init.xavier_normal_\n",
    "\n",
    "# Initialize neural network model with input, output and hidden layer dimensions\n",
    "model = ACAIGFCNWithInitialization(input_dim, output_dim, num_hidden_layers, hidden_dim, initialization)\n",
    "\n",
    "num_weights = count_parameters(model)\n",
    "print(\"Number of weights before adjustment:\", num_weights)"
   ]
  },
  {
   "cell_type": "code",
   "execution_count": 8,
   "metadata": {},
   "outputs": [],
   "source": [
    "def train_model_with_initialization(optimizer, learning_rate, initialization, num_epochs=15):\n",
    "    # Initialize model with specified initialization\n",
    "    model = ACAIGFCNWithInitialization(input_dim, output_dim, num_hidden_layers, hidden_dim, initialization)\n",
    "\n",
    "    # Loss and optimizer\n",
    "    criterion = nn.CrossEntropyLoss()\n",
    "    optimizer = optimizer(model.parameters(), lr=learning_rate)\n",
    "\n",
    "    # Training loop\n",
    "    train_losses = []\n",
    "    val_accuracies = []\n",
    "    for epoch in range(num_epochs):\n",
    "        # Training\n",
    "        model.train()\n",
    "        running_loss = 0.0\n",
    "        for inputs, labels in tqdm.tqdm(train_batches, desc=f'Epoch {epoch+1}/{num_epochs}'):\n",
    "            optimizer.zero_grad()\n",
    "            outputs = model(inputs.view(inputs.size(0), -1))\n",
    "            loss = criterion(outputs, labels)\n",
    "            loss.backward()\n",
    "            optimizer.step()\n",
    "            running_loss += loss.item() * inputs.size(0)\n",
    "        epoch_loss = running_loss / len(train_split)\n",
    "        train_losses.append(epoch_loss)\n",
    "\n",
    "        # Validation\n",
    "        model.eval()\n",
    "        correct = 0\n",
    "        total = 0\n",
    "        with torch.no_grad():\n",
    "            for inputs, labels in val_batches:\n",
    "                outputs = model(inputs.view(inputs.size(0), -1))\n",
    "                _, predicted = torch.max(outputs, 1)\n",
    "                total += labels.size(0)\n",
    "                correct += (predicted == labels).sum().item()\n",
    "        val_accuracy = correct / total\n",
    "        val_accuracies.append(val_accuracy)\n",
    "\n",
    "    # Testing\n",
    "    model.eval()\n",
    "    test_correct = 0\n",
    "    test_total = 0\n",
    "    with torch.no_grad():\n",
    "        for inputs, labels in test_batches:\n",
    "            outputs = model(inputs.view(inputs.size(0), -1))\n",
    "            _, predicted = torch.max(outputs, 1)\n",
    "            test_total += labels.size(0)\n",
    "            test_correct += (predicted == labels).sum().item()\n",
    "    test_accuracy = test_correct / test_total\n",
    "\n",
    "    return train_losses, val_accuracies, test_accuracy"
   ]
  },
  {
   "cell_type": "code",
   "execution_count": 9,
   "metadata": {},
   "outputs": [],
   "source": [
    "import time\n",
    "start = time.time()"
   ]
  },
  {
   "cell_type": "code",
   "execution_count": 10,
   "metadata": {},
   "outputs": [
    {
     "name": "stdout",
     "output_type": "stream",
     "text": [
      "Training with Adam optimizer, learning rate 0.001, and initialization Xavier Normal...\n"
     ]
    },
    {
     "name": "stderr",
     "output_type": "stream",
     "text": [
      "Epoch 1/15: 100%|██████████| 106/106 [00:02<00:00, 47.40it/s]\n",
      "Epoch 2/15: 100%|██████████| 106/106 [00:02<00:00, 48.42it/s]\n",
      "Epoch 3/15: 100%|██████████| 106/106 [00:02<00:00, 50.39it/s]\n",
      "Epoch 4/15: 100%|██████████| 106/106 [00:02<00:00, 50.33it/s]\n",
      "Epoch 5/15: 100%|██████████| 106/106 [00:02<00:00, 51.01it/s]\n",
      "Epoch 6/15: 100%|██████████| 106/106 [00:02<00:00, 50.80it/s]\n",
      "Epoch 7/15: 100%|██████████| 106/106 [00:02<00:00, 51.38it/s]\n",
      "Epoch 8/15: 100%|██████████| 106/106 [00:02<00:00, 50.25it/s]\n",
      "Epoch 9/15: 100%|██████████| 106/106 [00:02<00:00, 50.75it/s]\n",
      "Epoch 10/15: 100%|██████████| 106/106 [00:02<00:00, 50.35it/s]\n",
      "Epoch 11/15: 100%|██████████| 106/106 [00:02<00:00, 52.49it/s]\n",
      "Epoch 12/15: 100%|██████████| 106/106 [00:02<00:00, 52.55it/s]\n",
      "Epoch 13/15: 100%|██████████| 106/106 [00:02<00:00, 52.35it/s]\n",
      "Epoch 14/15: 100%|██████████| 106/106 [00:02<00:00, 51.02it/s]\n",
      "Epoch 15/15: 100%|██████████| 106/106 [00:02<00:00, 51.98it/s]\n"
     ]
    }
   ],
   "source": [
    "initializations = {\n",
    "    'Xavier Normal': nn.init.xavier_normal_,\n",
    "}\n",
    "results_initialization = {}\n",
    "# Given my laptop capacity, I modified the baseline configuration and picked Adam optimizer with learning rate 0.001 to test the initializations\n",
    "# as they are the best performer\n",
    "for initialization_name, initialization_func in initializations.items():\n",
    "    print(f'Training with Adam optimizer, learning rate 0.001, and initialization {initialization_name}...')\n",
    "    train_losses, val_accuracies, test_accuracy = train_model_with_initialization(optim.Adam, 0.001, initialization_func)\n",
    "    results_initialization[(optim.Adam, 0.001, initialization_name)] = {\n",
    "        'train_losses': train_losses,\n",
    "        'val_accuracies': val_accuracies,\n",
    "        'test_accuracy': test_accuracy\n",
    "    }"
   ]
  },
  {
   "cell_type": "code",
   "execution_count": 11,
   "metadata": {},
   "outputs": [],
   "source": [
    "end = time.time()\n",
    "runtime = end-start"
   ]
  },
  {
   "cell_type": "code",
   "execution_count": 12,
   "metadata": {},
   "outputs": [
    {
     "data": {
      "text/plain": [
       "41.34636878967285"
      ]
     },
     "execution_count": 12,
     "metadata": {},
     "output_type": "execute_result"
    }
   ],
   "source": [
    "runtime"
   ]
  },
  {
   "cell_type": "code",
   "execution_count": 13,
   "metadata": {},
   "outputs": [
    {
     "name": "stdout",
     "output_type": "stream",
     "text": [
      "Test Accuracy with Xavier Normal Initialization: 88.14%\n"
     ]
    }
   ],
   "source": [
    "for initialization_name, initialization_func in initializations.items():\n",
    "    print(f'Test Accuracy with {initialization_name} Initialization: {test_accuracy * 100:.2f}%')"
   ]
  },
  {
   "cell_type": "code",
   "execution_count": 14,
   "metadata": {},
   "outputs": [
    {
     "name": "stdout",
     "output_type": "stream",
     "text": [
      "Number of weights before adjustment: 52650\n"
     ]
    }
   ],
   "source": [
    "input_dim = 784  # Input dimension\n",
    "output_dim = 10  # Output dimension (number of classes)\n",
    "num_hidden_layers = 2  # Adjustable number of hidden layers\n",
    "hidden_dim = [64, 32]  # Adjustable number of neurons in each hidden layer\n",
    "learning_rate = 0.1  # Adjustable learning rate\n",
    "num_epochs = 15  # Adjustable number of epochs\n",
    "initialization = nn.init.xavier_normal_\n",
    "\n",
    "# Initialize neural network model with input, output and hidden layer dimensions\n",
    "model = ACAIGFCNWithInitialization(input_dim, output_dim, num_hidden_layers, hidden_dim, initialization)\n",
    "\n",
    "num_weights = count_parameters(model)\n",
    "print(\"Number of weights before adjustment:\", num_weights)"
   ]
  },
  {
   "cell_type": "code",
   "execution_count": 15,
   "metadata": {},
   "outputs": [],
   "source": [
    "start = time.time()"
   ]
  },
  {
   "cell_type": "code",
   "execution_count": 16,
   "metadata": {},
   "outputs": [
    {
     "name": "stdout",
     "output_type": "stream",
     "text": [
      "Training with Adam optimizer, learning rate 0.001, and initialization Xavier Normal...\n"
     ]
    },
    {
     "name": "stderr",
     "output_type": "stream",
     "text": [
      "Epoch 1/15: 100%|██████████| 106/106 [00:02<00:00, 49.03it/s]\n",
      "Epoch 2/15: 100%|██████████| 106/106 [00:02<00:00, 50.46it/s]\n",
      "Epoch 3/15: 100%|██████████| 106/106 [00:02<00:00, 51.88it/s]\n",
      "Epoch 4/15: 100%|██████████| 106/106 [00:02<00:00, 52.92it/s]\n",
      "Epoch 5/15: 100%|██████████| 106/106 [00:02<00:00, 52.95it/s]\n",
      "Epoch 6/15: 100%|██████████| 106/106 [00:02<00:00, 50.66it/s]\n",
      "Epoch 7/15: 100%|██████████| 106/106 [00:02<00:00, 52.86it/s]\n",
      "Epoch 8/15: 100%|██████████| 106/106 [00:01<00:00, 53.15it/s]\n",
      "Epoch 9/15: 100%|██████████| 106/106 [00:01<00:00, 53.07it/s]\n",
      "Epoch 10/15: 100%|██████████| 106/106 [00:01<00:00, 53.02it/s]\n",
      "Epoch 11/15: 100%|██████████| 106/106 [00:01<00:00, 53.08it/s]\n",
      "Epoch 12/15: 100%|██████████| 106/106 [00:02<00:00, 51.85it/s]\n",
      "Epoch 13/15: 100%|██████████| 106/106 [00:01<00:00, 53.23it/s]\n",
      "Epoch 14/15: 100%|██████████| 106/106 [00:02<00:00, 52.75it/s]\n",
      "Epoch 15/15: 100%|██████████| 106/106 [00:02<00:00, 52.94it/s]\n"
     ]
    }
   ],
   "source": [
    "initializations = {\n",
    "    'Xavier Normal': nn.init.xavier_normal_,\n",
    "}\n",
    "results_initialization = {}\n",
    "# Given my laptop capacity, I modified the baseline configuration and picked Adam optimizer with learning rate 0.001 to test the initializations\n",
    "# as they are the best performer\n",
    "for initialization_name, initialization_func in initializations.items():\n",
    "    print(f'Training with Adam optimizer, learning rate 0.001, and initialization {initialization_name}...')\n",
    "    train_losses, val_accuracies, test_accuracy = train_model_with_initialization(optim.Adam, 0.001, initialization_func)\n",
    "    results_initialization[(optim.Adam, 0.001, initialization_name)] = {\n",
    "        'train_losses': train_losses,\n",
    "        'val_accuracies': val_accuracies,\n",
    "        'test_accuracy': test_accuracy\n",
    "    }"
   ]
  },
  {
   "cell_type": "code",
   "execution_count": 17,
   "metadata": {},
   "outputs": [
    {
     "data": {
      "text/plain": [
       "44.07715606689453"
      ]
     },
     "execution_count": 17,
     "metadata": {},
     "output_type": "execute_result"
    }
   ],
   "source": [
    "end = time.time()\n",
    "runtime = end-start\n",
    "runtime"
   ]
  },
  {
   "cell_type": "code",
   "execution_count": 75,
   "metadata": {},
   "outputs": [
    {
     "name": "stdout",
     "output_type": "stream",
     "text": [
      "Test Accuracy with Xavier Normal Initialization: 86.99%\n"
     ]
    }
   ],
   "source": [
    "for initialization_name, initialization_func in initializations.items():\n",
    "    print(f'Test Accuracy with {initialization_name} Initialization: {test_accuracy * 100:.2f}%')"
   ]
  },
  {
   "cell_type": "code",
   "execution_count": 83,
   "metadata": {},
   "outputs": [
    {
     "name": "stdout",
     "output_type": "stream",
     "text": [
      "Number of weights before adjustment: 209514\n"
     ]
    }
   ],
   "source": [
    "input_dim = 784  # Input dimension\n",
    "output_dim = 10  # Output dimension (number of classes)\n",
    "num_hidden_layers = 2  # Adjustable number of hidden layers\n",
    "hidden_dim = [256, 32]  # Adjustable number of neurons in each hidden layer\n",
    "learning_rate = 0.1  # Adjustable learning rate\n",
    "num_epochs = 15  # Adjustable number of epochs\n",
    "initialization = nn.init.xavier_normal_\n",
    "\n",
    "# Initialize neural network model with input, output and hidden layer dimensions\n",
    "model = ACAIGFCNWithInitialization(input_dim, output_dim, num_hidden_layers, hidden_dim, initialization)\n",
    "\n",
    "num_weights = count_parameters(model)\n",
    "print(\"Number of weights before adjustment:\", num_weights)"
   ]
  },
  {
   "cell_type": "code",
   "execution_count": 84,
   "metadata": {},
   "outputs": [
    {
     "name": "stdout",
     "output_type": "stream",
     "text": [
      "Training with Adam optimizer, learning rate 0.001, and initialization Xavier Normal...\n"
     ]
    },
    {
     "name": "stderr",
     "output_type": "stream",
     "text": [
      "Epoch 1/15: 100%|██████████| 106/106 [00:02<00:00, 47.94it/s]\n",
      "Epoch 2/15: 100%|██████████| 106/106 [00:02<00:00, 50.69it/s]\n",
      "Epoch 3/15: 100%|██████████| 106/106 [00:02<00:00, 50.86it/s]\n",
      "Epoch 4/15: 100%|██████████| 106/106 [00:02<00:00, 48.96it/s]\n",
      "Epoch 5/15: 100%|██████████| 106/106 [00:02<00:00, 48.07it/s]\n",
      "Epoch 6/15: 100%|██████████| 106/106 [00:02<00:00, 46.89it/s]\n",
      "Epoch 7/15: 100%|██████████| 106/106 [00:02<00:00, 50.68it/s]\n",
      "Epoch 8/15: 100%|██████████| 106/106 [00:02<00:00, 50.58it/s]\n",
      "Epoch 9/15: 100%|██████████| 106/106 [00:02<00:00, 49.50it/s]\n",
      "Epoch 10/15: 100%|██████████| 106/106 [00:02<00:00, 46.90it/s]\n",
      "Epoch 11/15: 100%|██████████| 106/106 [00:02<00:00, 48.96it/s]\n",
      "Epoch 12/15: 100%|██████████| 106/106 [00:02<00:00, 45.35it/s]\n",
      "Epoch 13/15: 100%|██████████| 106/106 [00:02<00:00, 45.14it/s]\n",
      "Epoch 14/15: 100%|██████████| 106/106 [00:02<00:00, 44.93it/s]\n",
      "Epoch 15/15: 100%|██████████| 106/106 [00:02<00:00, 46.88it/s]\n"
     ]
    },
    {
     "name": "stdout",
     "output_type": "stream",
     "text": [
      "Test Accuracy with Xavier Normal Initialization: 88.26%\n"
     ]
    }
   ],
   "source": [
    "initializations = {\n",
    "    'Xavier Normal': nn.init.xavier_normal_,\n",
    "}\n",
    "results_initialization = {}\n",
    "# Given my laptop capacity, I modified the baseline configuration and picked Adam optimizer with learning rate 0.001 to test the initializations\n",
    "# as they are the best performer\n",
    "for initialization_name, initialization_func in initializations.items():\n",
    "    print(f'Training with Adam optimizer, learning rate 0.001, and initialization {initialization_name}...')\n",
    "    train_losses, val_accuracies, test_accuracy = train_model_with_initialization(optim.Adam, 0.001, initialization_func)\n",
    "    results_initialization[(optim.Adam, 0.001, initialization_name)] = {\n",
    "        'train_losses': train_losses,\n",
    "        'val_accuracies': val_accuracies,\n",
    "        'test_accuracy': test_accuracy\n",
    "    }\n",
    "for initialization_name, initialization_func in initializations.items():\n",
    "    print(f'Test Accuracy with {initialization_name} Initialization: {test_accuracy * 100:.2f}%')"
   ]
  },
  {
   "cell_type": "markdown",
   "metadata": {},
   "source": [
    "**TASK 3 and 4**"
   ]
  },
  {
   "cell_type": "code",
   "execution_count": 101,
   "metadata": {},
   "outputs": [],
   "source": [
    "input_dim = 28  # FashionMNIST image size\n",
    "output_dim = 10  # Number of classes\n",
    "num_hidden_layers = 1  # Number of hidden layers\n",
    "hidden_dim = 128  # Dimension of each hidden layer\n",
    "\n",
    "model = CNN(input_dim, output_dim, num_hidden_layers, hidden_dim)"
   ]
  },
  {
   "cell_type": "code",
   "execution_count": 102,
   "metadata": {},
   "outputs": [
    {
     "name": "stdout",
     "output_type": "stream",
     "text": [
      "Number of weights before adjustment: 103018\n"
     ]
    }
   ],
   "source": [
    "num_weights = count_parameters(model)\n",
    "print(\"Number of weights before adjustment:\", num_weights)"
   ]
  },
  {
   "cell_type": "code",
   "execution_count": 104,
   "metadata": {},
   "outputs": [
    {
     "name": "stdout",
     "output_type": "stream",
     "text": [
      "Epoch 1, Loss: 0.27943156012948955\n",
      "Epoch 2, Loss: 0.25557203028561937\n",
      "Epoch 3, Loss: 0.2503346283480806\n",
      "Epoch 4, Loss: 0.24259258216282106\n",
      "Epoch 5, Loss: 0.24043646243945607\n",
      "Epoch 6, Loss: 0.22824564056014116\n",
      "Epoch 7, Loss: 0.22172040942142596\n",
      "Epoch 8, Loss: 0.2200470024122382\n",
      "Epoch 9, Loss: 0.21824732577463365\n",
      "Epoch 10, Loss: 0.20888327034014575\n",
      "Testing Accuracy: 90.05%\n"
     ]
    }
   ],
   "source": [
    "# Hyperparameters\n",
    "learning_rate = 0.001\n",
    "epochs = 10\n",
    "# Loss function and optimizer\n",
    "criterion = nn.CrossEntropyLoss()\n",
    "optimizer = optim.Adam(model.parameters(), lr=learning_rate)\n",
    "\n",
    "# Training loop\n",
    "for epoch in range(epochs):\n",
    "    model.train()\n",
    "    running_loss = 0.0\n",
    "    for i, data in enumerate(train_batches, 0):\n",
    "        inputs, labels = data\n",
    "        optimizer.zero_grad()\n",
    "        outputs = model(inputs)\n",
    "        loss = criterion(outputs, labels)\n",
    "        loss.backward()\n",
    "        optimizer.step()\n",
    "        running_loss += loss.item()\n",
    "    print(f\"Epoch {epoch+1}, Loss: {running_loss/num_train_batches}\")\n",
    "\n",
    "# Test loop\n",
    "model.eval()\n",
    "correct = 0\n",
    "total = 0\n",
    "with torch.no_grad():\n",
    "    for data in test_batches:\n",
    "        inputs, labels = data\n",
    "        outputs = model(inputs)\n",
    "        _, predicted = torch.max(outputs.data, 1)\n",
    "        total += labels.size(0)\n",
    "        correct += (predicted == labels).sum().item()\n",
    "\n",
    "print(f\"Testing Accuracy: {100 * correct / total}%\")"
   ]
  },
  {
   "cell_type": "code",
   "execution_count": 105,
   "metadata": {},
   "outputs": [],
   "source": [
    "input_dim = 28  # FashionMNIST image size\n",
    "output_dim = 10  # Number of classes\n",
    "num_hidden_layers = 1  # Number of hidden layers\n",
    "hidden_dim = 64  # Dimension of each hidden layer\n",
    "\n",
    "model = CNN(input_dim, output_dim, num_hidden_layers, hidden_dim)"
   ]
  },
  {
   "cell_type": "code",
   "execution_count": 106,
   "metadata": {},
   "outputs": [
    {
     "name": "stdout",
     "output_type": "stream",
     "text": [
      "Number of weights before adjustment: 52138\n"
     ]
    }
   ],
   "source": [
    "num_weights = count_parameters(model)\n",
    "print(\"Number of weights before adjustment:\", num_weights)"
   ]
  },
  {
   "cell_type": "code",
   "execution_count": 107,
   "metadata": {},
   "outputs": [
    {
     "name": "stdout",
     "output_type": "stream",
     "text": [
      "Epoch 1, Loss: 0.8292431176271079\n",
      "Epoch 2, Loss: 0.46860668513010134\n",
      "Epoch 3, Loss: 0.4047158661316026\n",
      "Epoch 4, Loss: 0.3734063061903108\n",
      "Epoch 5, Loss: 0.3511682745983016\n",
      "Epoch 6, Loss: 0.3396252618645722\n",
      "Epoch 7, Loss: 0.3279499985137076\n",
      "Epoch 8, Loss: 0.31355029681943497\n",
      "Epoch 9, Loss: 0.3035225290453659\n",
      "Epoch 10, Loss: 0.2964437506952376\n",
      "Testing Accuracy: 88.14%\n"
     ]
    }
   ],
   "source": [
    "# Hyperparameters\n",
    "learning_rate = 0.001\n",
    "epochs = 10\n",
    "# Loss function and optimizer\n",
    "criterion = nn.CrossEntropyLoss()\n",
    "optimizer = optim.Adam(model.parameters(), lr=learning_rate)\n",
    "\n",
    "# Training loop\n",
    "for epoch in range(epochs):\n",
    "    model.train()\n",
    "    running_loss = 0.0\n",
    "    for i, data in enumerate(train_batches, 0):\n",
    "        inputs, labels = data\n",
    "        optimizer.zero_grad()\n",
    "        outputs = model(inputs)\n",
    "        loss = criterion(outputs, labels)\n",
    "        loss.backward()\n",
    "        optimizer.step()\n",
    "        running_loss += loss.item()\n",
    "    print(f\"Epoch {epoch+1}, Loss: {running_loss/num_train_batches}\")\n",
    "\n",
    "# Test loop\n",
    "model.eval()\n",
    "correct = 0\n",
    "total = 0\n",
    "with torch.no_grad():\n",
    "    for data in test_batches:\n",
    "        inputs, labels = data\n",
    "        outputs = model(inputs)\n",
    "        _, predicted = torch.max(outputs.data, 1)\n",
    "        total += labels.size(0)\n",
    "        correct += (predicted == labels).sum().item()\n",
    "\n",
    "print(f\"Testing Accuracy: {100 * correct / total}%\")"
   ]
  },
  {
   "cell_type": "code",
   "execution_count": 33,
   "metadata": {},
   "outputs": [],
   "source": [
    "input_dim = 28  # FashionMNIST image size\n",
    "output_dim = 10  # Number of classes\n",
    "num_hidden_layers = 1  # Number of hidden layers\n",
    "hidden_dim = 32  # Dimension of each hidden layer\n",
    "\n",
    "model = CNN(input_dim, output_dim, num_hidden_layers, hidden_dim)"
   ]
  },
  {
   "cell_type": "code",
   "execution_count": 34,
   "metadata": {},
   "outputs": [
    {
     "name": "stdout",
     "output_type": "stream",
     "text": [
      "Number of weights before adjustment: 20954\n"
     ]
    }
   ],
   "source": [
    "num_weights = count_parameters(model)\n",
    "print(\"Number of weights before adjustment:\", num_weights)"
   ]
  },
  {
   "cell_type": "code",
   "execution_count": 108,
   "metadata": {},
   "outputs": [
    {
     "name": "stdout",
     "output_type": "stream",
     "text": [
      "Epoch 1, Loss: 0.2911332367726092\n",
      "Epoch 2, Loss: 0.2821530344070129\n",
      "Epoch 3, Loss: 0.27392544231887134\n",
      "Epoch 4, Loss: 0.2648727003976984\n",
      "Epoch 5, Loss: 0.25513743820055473\n",
      "Epoch 6, Loss: 0.2526727726437011\n",
      "Epoch 7, Loss: 0.24650486432156474\n",
      "Epoch 8, Loss: 0.23747228690475788\n",
      "Epoch 9, Loss: 0.23414623414008123\n",
      "Epoch 10, Loss: 0.22878824314981136\n",
      "Testing Accuracy: 89.41%\n"
     ]
    }
   ],
   "source": [
    "# Hyperparameters\n",
    "learning_rate = 0.001\n",
    "epochs = 10\n",
    "# Loss function and optimizer\n",
    "criterion = nn.CrossEntropyLoss()\n",
    "optimizer = optim.Adam(model.parameters(), lr=learning_rate)\n",
    "\n",
    "# Training loop\n",
    "for epoch in range(epochs):\n",
    "    model.train()\n",
    "    running_loss = 0.0\n",
    "    for i, data in enumerate(train_batches, 0):\n",
    "        inputs, labels = data\n",
    "        optimizer.zero_grad()\n",
    "        outputs = model(inputs)\n",
    "        loss = criterion(outputs, labels)\n",
    "        loss.backward()\n",
    "        optimizer.step()\n",
    "        running_loss += loss.item()\n",
    "    print(f\"Epoch {epoch+1}, Loss: {running_loss/num_train_batches}\")\n",
    "\n",
    "# Test loop\n",
    "model.eval()\n",
    "correct = 0\n",
    "total = 0\n",
    "with torch.no_grad():\n",
    "    for data in test_batches:\n",
    "        inputs, labels = data\n",
    "        outputs = model(inputs)\n",
    "        _, predicted = torch.max(outputs.data, 1)\n",
    "        total += labels.size(0)\n",
    "        correct += (predicted == labels).sum().item()\n",
    "\n",
    "print(f\"Testing Accuracy: {100 * correct / total}%\")"
   ]
  },
  {
   "cell_type": "code",
   "execution_count": 109,
   "metadata": {},
   "outputs": [],
   "source": [
    "# Hyperparameters\n",
    "input_dim = 28  # FashionMNIST image size\n",
    "output_dim = 10  # Number of classes\n",
    "num_hidden_layers = 1  # Number of hidden layers\n",
    "hidden_dim = 16  # Dimension of each hidden layer\n",
    "\n",
    "model = CNN(input_dim, output_dim, num_hidden_layers, hidden_dim)"
   ]
  },
  {
   "cell_type": "code",
   "execution_count": 110,
   "metadata": {},
   "outputs": [
    {
     "name": "stdout",
     "output_type": "stream",
     "text": [
      "Number of weights before adjustment: 13978\n"
     ]
    }
   ],
   "source": [
    "num_weights = count_parameters(model)\n",
    "print(\"Number of weights before adjustment:\", num_weights)"
   ]
  },
  {
   "cell_type": "code",
   "execution_count": 111,
   "metadata": {},
   "outputs": [
    {
     "name": "stdout",
     "output_type": "stream",
     "text": [
      "Epoch 1, Loss: 1.2835093584825408\n",
      "Epoch 2, Loss: 0.585116852285727\n",
      "Epoch 3, Loss: 0.4869310296369049\n",
      "Epoch 4, Loss: 0.43950424441751446\n",
      "Epoch 5, Loss: 0.41234751495550265\n",
      "Epoch 6, Loss: 0.3900205847227348\n",
      "Epoch 7, Loss: 0.3748229227538379\n",
      "Epoch 8, Loss: 0.36453474692578586\n",
      "Epoch 9, Loss: 0.35269213959855855\n",
      "Epoch 10, Loss: 0.3493419312081247\n",
      "Testing Accuracy: 86.93%\n"
     ]
    }
   ],
   "source": [
    "# Hyperparameters\n",
    "learning_rate = 0.001\n",
    "epochs = 10\n",
    "# Loss function and optimizer\n",
    "criterion = nn.CrossEntropyLoss()\n",
    "optimizer = optim.Adam(model.parameters(), lr=learning_rate)\n",
    "\n",
    "# Training loop\n",
    "for epoch in range(epochs):\n",
    "    model.train()\n",
    "    running_loss = 0.0\n",
    "    for i, data in enumerate(train_batches, 0):\n",
    "        inputs, labels = data\n",
    "        optimizer.zero_grad()\n",
    "        outputs = model(inputs)\n",
    "        loss = criterion(outputs, labels)\n",
    "        loss.backward()\n",
    "        optimizer.step()\n",
    "        running_loss += loss.item()\n",
    "    print(f\"Epoch {epoch+1}, Loss: {running_loss/num_train_batches}\")\n",
    "\n",
    "# Test loop\n",
    "model.eval()\n",
    "correct = 0\n",
    "total = 0\n",
    "with torch.no_grad():\n",
    "    for data in test_batches:\n",
    "        inputs, labels = data\n",
    "        outputs = model(inputs)\n",
    "        _, predicted = torch.max(outputs.data, 1)\n",
    "        total += labels.size(0)\n",
    "        correct += (predicted == labels).sum().item()\n",
    "\n",
    "print(f\"Testing Accuracy: {100 * correct / total}%\")"
   ]
  }
 ],
 "metadata": {
  "colab": {
   "collapsed_sections": [
    "EM6GQLv6j5uH"
   ],
   "name": "Lab 2- PyTorch Basics.ipynb",
   "provenance": []
  },
  "kernelspec": {
   "display_name": "Python 3 (ipykernel)",
   "language": "python",
   "name": "python3"
  },
  "language_info": {
   "codemirror_mode": {
    "name": "ipython",
    "version": 3
   },
   "file_extension": ".py",
   "mimetype": "text/x-python",
   "name": "python",
   "nbconvert_exporter": "python",
   "pygments_lexer": "ipython3",
   "version": "3.11.7"
  }
 },
 "nbformat": 4,
 "nbformat_minor": 1
}
