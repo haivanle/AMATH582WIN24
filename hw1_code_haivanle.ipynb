{
 "cells": [
  {
   "cell_type": "code",
   "execution_count": 1,
   "metadata": {},
   "outputs": [],
   "source": [
    "# import necessary libraries\n",
    "import numpy as np\n",
    "import matplotlib.pyplot as plt\n",
    "import scipy \n",
    "# import libraries for plotting isosurfaces\n",
    "import plotly\n",
    "import plotly.graph_objs as go"
   ]
  },
  {
   "cell_type": "code",
   "execution_count": 2,
   "metadata": {},
   "outputs": [],
   "source": [
    "d = np.load('/Users/haivanle/Documents/AMATH582/subdata.npy')"
   ]
  },
  {
   "cell_type": "code",
   "execution_count": 3,
   "metadata": {},
   "outputs": [],
   "source": [
    "# utility for clearing output of cell as loop runs in notebook\n",
    "from IPython.display import clear_output\n",
    "\n",
    "# plot the data in time \n",
    "\n",
    "L = 10; # length of spatial domain (cube of side L = 2*10)\n",
    "N_grid = 64; # number of grid points/Fourier modes in each direction\n",
    "xx = np.linspace(-L, L, N_grid+1) #spatial grid in x dir\n",
    "x = xx[0:N_grid]\n",
    "y = x # same grid in y,z direction\n",
    "z = x\n",
    "\n",
    "K_grid = (2*np.pi/(2*L))*np.linspace(-N_grid/2, N_grid/2 -1, N_grid) # frequency grid for one coordinate\n",
    "\n",
    "xv, yv, zv = np.meshgrid( x, y, z) # generate 3D meshgrid for plotting\n",
    "\n",
    "# plot iso surfaces for every third measurement\n",
    "\n",
    "# for j in range(0,49,3):\n",
    "\n",
    "#   signal = np.reshape(d[:, j], (N_grid, N_grid, N_grid))\n",
    "#   normal_sig_abs = np.abs(signal)/np.abs(signal).max()\n",
    "\n",
    "#   # generate data for isosurface of the 3D data \n",
    "#   fig_data = go.Isosurface( x = xv.flatten(), y = yv.flatten(), z = zv.flatten(),\n",
    "#                            value = normal_sig_abs.flatten(), isomin=0.7, isomax=0.7)\n",
    "\n",
    "#   # generate plots\n",
    "#   clear_output(wait=True) # need this to discard previous figs\n",
    "#   fig = go.Figure( data = fig_data )\n",
    "#   fig.show()\n"
   ]
  },
  {
   "cell_type": "code",
   "execution_count": 8,
   "metadata": {},
   "outputs": [
    {
     "name": "stderr",
     "output_type": "stream",
     "text": [
      "/var/folders/6_/w9g0lyhn5632jr666js3y_lw0000gn/T/ipykernel_79310/3707580413.py:10: DeprecationWarning: Calling np.sum(generator) is deprecated, and in the future will give a different result. Use np.sum(np.fromiter(generator)) or the python sum builtin instead.\n",
      "  Uk = np.sum(np.fft.fftn(d[:, j].reshape(N_grid, N_grid, N_grid, order='F')) for j in range(49))\n"
     ]
    }
   ],
   "source": [
    "# Defines a wavenumber array using the Fourier series \n",
    "k = (2 * np.pi / (2 * L)) * np.concatenate((np.arange(0, 32), np.arange(-32, 0)), axis=0)\n",
    "# Performs a Fourier shift on the wavenumber array\n",
    "ks = np.fft.fftshift(k)\n",
    "\n",
    "# Create meshgrids in x, y, and z directions\n",
    "Kx, Ky, Kz = np.meshgrid(ks, ks, ks)\n",
    "# Creates meshgrids for the spatial coordinates X, Z, and Y\n",
    "[X, Z, Y] = np.meshgrid(k, k, k)\n",
    "\n",
    "# Computes the Fourier transform of the data for each time step and sums them up\n",
    "Uk = np.sum(np.fft.fftn(d[:, j].reshape(N_grid, N_grid, N_grid, order='F')) for j in range(49))\n",
    "\n",
    "# Finds the indexes of the maximum value in the averaged Fourier transform\n",
    "indexes = np.unravel_index(np.argmax(Uk / 49), (Uk / 49).shape)\n",
    "x_, y_, z_ = X[indexes], Y[indexes], Z[indexes]"
   ]
  },
  {
   "cell_type": "code",
   "execution_count": 9,
   "metadata": {},
   "outputs": [
    {
     "name": "stdout",
     "output_type": "stream",
     "text": [
      "Center frequency:  5.340707511102648 2.199114857512855 -6.911503837897545\n"
     ]
    }
   ],
   "source": [
    "# print('Center frequency: ', x_, y_, z_)    "
   ]
  },
  {
   "cell_type": "code",
   "execution_count": 14,
   "metadata": {},
   "outputs": [],
   "source": [
    "# Simple Gaussian Filter centered at the maximum frequency point\n",
    "gaussian_filter = np.exp(-0.1*((X - X[indexes])**2 + (Y - Y[indexes])**2 +(Z - Z[indexes])**2))"
   ]
  },
  {
   "cell_type": "code",
   "execution_count": 15,
   "metadata": {},
   "outputs": [],
   "source": [
    "# Initializes arrays to store x, y, and z positions for each time step\n",
    "x_pos = np.zeros(49)\n",
    "y_pos = np.zeros(49)\n",
    "z_pos = np.zeros(49)\n",
    "\n",
    "# Apply Gaussian Filter\n",
    "\n",
    "for t in range(49):\n",
    "    Un = np.reshape(d[:, t], (N_grid, N_grid, N_grid), order = 'F') # Reshapes the 1D data at time step t into a 3D array\n",
    "    fft_Un = scipy.fft.ifftn((scipy.fft.fftn(Un))*gaussian_filter) # Applies the 3D Fourier transform to the reshaped data and applies the Gaussian filter\n",
    "    abs_fft_Un = np.abs(fft_Un) # Takes the absolute value of the Fourier-transformed data\n",
    "    max_val = np.argmax(abs_fft_Un) # Finds the index of the maximum value\n",
    "    indexes1 = np.unravel_index(max_val, Un.shape) # Obtain the position in the reshaped 3D array\n",
    "    # Stores the x, y, and z positions \n",
    "    x_pos[t] = x[indexes1[1]]\n",
    "    y_pos[t] = y[indexes1[2]]\n",
    "    z_pos[t] = z[indexes1[0]]"
   ]
  },
  {
   "cell_type": "code",
   "execution_count": 20,
   "metadata": {},
   "outputs": [],
   "source": [
    "# Plot the 3d submarine path\n",
    "fig = plt.figure()\n",
    "ax = fig.add_subplot(111, projection='3d')\n",
    "\n",
    "ax.plot(x_pos, y_pos, z_pos, 'b', label='With Gaussian filter')\n",
    "\n",
    "# Mark the initial position (first point)\n",
    "ax.scatter(x_pos[0], y_pos[0], z_pos[0], c='g', marker='o', s=50, label='Initial Position')\n",
    "\n",
    "# Mark the final position (last point)\n",
    "ax.scatter(x_pos[-1], y_pos[-1], z_pos[-1], c='r', marker='o', s=50, label='Final Position')\n",
    "\n",
    "ax.set_xlabel(\"x\")\n",
    "ax.set_ylabel(\"y\")\n",
    "ax.set_zlabel(\"z\")\n",
    "ax.legend(loc='upper right')\n",
    "\n",
    "# Set the view angle\n",
    "# ax.view_init(elev=30, azim=-20)\n",
    "plt.savefig('582hw1f1.pdf')\n",
    "plt.show()"
   ]
  },
  {
   "cell_type": "code",
   "execution_count": 21,
   "metadata": {},
   "outputs": [],
   "source": [
    "# Plot the x,y-coordinates of the submarine path\n",
    "fig = plt.figure()\n",
    "ax = plt.axes()\n",
    "\n",
    "ax.plot(x_pos, y_pos, 'b', label='With Gaussian filter')\n",
    "# Mark the initial position (first point)\n",
    "ax.scatter(x_pos[0], y_pos[0], c='g', marker='o', s=50, label='Initial Position')\n",
    "\n",
    "# Mark the final position (last point)\n",
    "ax.scatter(x_pos[-1], y_pos[-1], c='r', marker='o', s=50, label='Final Position')\n",
    "ax.set_xlabel(\"x\")\n",
    "ax.set_ylabel(\"y\")\n",
    "ax.legend(loc='upper right')\n",
    "plt.savefig('582hw1f2.pdf')\n",
    "plt.show()\n"
   ]
  }
 ],
 "metadata": {
  "kernelspec": {
   "display_name": "Python 3",
   "language": "python",
   "name": "python3"
  },
  "language_info": {
   "codemirror_mode": {
    "name": "ipython",
    "version": 3
   },
   "file_extension": ".py",
   "mimetype": "text/x-python",
   "name": "python",
   "nbconvert_exporter": "python",
   "pygments_lexer": "ipython3",
   "version": "3.11.7"
  }
 },
 "nbformat": 4,
 "nbformat_minor": 2
}
